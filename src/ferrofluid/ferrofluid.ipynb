{
 "cells": [
  {
   "cell_type": "code",
   "execution_count": 2,
   "metadata": {},
   "outputs": [
    {
     "data": {
      "text/plain": [
       "<torch._C.Generator at 0x15f6781b0>"
      ]
     },
     "execution_count": 2,
     "metadata": {},
     "output_type": "execute_result"
    }
   ],
   "source": [
    "import functools\n",
    "import matplotlib.pyplot as plt\n",
    "import numpy as np\n",
    "import torch\n",
    "import seaborn as sns\n",
    "\n",
    "from network import Net, NetDiscovery\n",
    "from diff_equation import *\n",
    "\n",
    "DEVICE = torch.device('cuda' if torch.cuda.is_available() else 'cpu')\n",
    "\n",
    "sns.set_theme()\n",
    "torch.manual_seed(42)"
   ]
  },
  {
   "cell_type": "code",
   "execution_count": 3,
   "metadata": {},
   "outputs": [
    {
     "ename": "NameError",
     "evalue": "name 'cooling_law' is not defined",
     "output_type": "error",
     "traceback": [
      "\u001b[0;31m---------------------------------------------------------------------------\u001b[0m",
      "\u001b[0;31mNameError\u001b[0m                                 Traceback (most recent call last)",
      "Cell \u001b[0;32mIn[3], line 7\u001b[0m\n\u001b[1;32m      5\u001b[0m R \u001b[38;5;241m=\u001b[39m \u001b[38;5;241m0.005\u001b[39m\n\u001b[1;32m      6\u001b[0m times \u001b[38;5;241m=\u001b[39m np\u001b[38;5;241m.\u001b[39mlinspace(\u001b[38;5;241m0\u001b[39m, \u001b[38;5;241m1000\u001b[39m, \u001b[38;5;241m1000\u001b[39m)\n\u001b[0;32m----> 7\u001b[0m eq \u001b[38;5;241m=\u001b[39m functools\u001b[38;5;241m.\u001b[39mpartial(\u001b[43mcooling_law\u001b[49m, Tenv\u001b[38;5;241m=\u001b[39mTenv, T0\u001b[38;5;241m=\u001b[39mT0, R\u001b[38;5;241m=\u001b[39mR)\n\u001b[1;32m      8\u001b[0m temps \u001b[38;5;241m=\u001b[39m eq(times)\n\u001b[1;32m     10\u001b[0m \u001b[38;5;66;03m# Make training data\u001b[39;00m\n",
      "\u001b[0;31mNameError\u001b[0m: name 'cooling_law' is not defined"
     ]
    }
   ],
   "source": [
    "np.random.seed(10)\n",
    "\n",
    "Vol = 0.005*0.005*0.020   # Volume in [m]\n",
    "mu0 = 1.256637*10^-6      # Permeability of free space [m*kg/(s*A)]\n",
    "\n",
    "dist = np.linspace(0, 30, 30)\n",
    "eq = functools.partial(target, Tenv=Tenv, T0=T0, R=R)\n",
    "temps = eq(times)\n",
    "\n",
    "# Make training data\n",
    "t = np.linspace(0, 300, 10)\n",
    "T = eq(t) +  2 * np.random.randn(10)\n",
    "\n",
    "plt.plot(times, temps)\n",
    "plt.plot(t, T, 'o')\n",
    "plt.legend(['Equation', 'Training data'])\n",
    "plt.ylabel('Temperature (C)')\n",
    "plt.xlabel('Time (s)')"
   ]
  },
  {
   "cell_type": "code",
   "execution_count": null,
   "metadata": {},
   "outputs": [],
   "source": [
    "V = 1\n",
    "M = np.array()\n",
    "H = np.array()\n",
    "r = 1\n",
    "eta = 1\n",
    "dH = np.diff(H)\n",
    "\n",
    "def physics_loss(model: torch.nn.Module):\n",
    "    ts = torch.linspace(0, 1000, steps=1000,).view(-1,1).requires_grad_(True).to(DEVICE)\n",
    "    x = model(ts)\n",
    "    dx = grad(x, ts)[0]\n",
    "    pde =  (V*M(x)*mu0*dH)/(6*r*np.pi*eta) - dx\n",
    "    \n",
    "    return torch.mean(pde**2)\n",
    "    "
   ]
  },
  {
   "cell_type": "code",
   "execution_count": 1,
   "metadata": {},
   "outputs": [
    {
     "ename": "NameError",
     "evalue": "name 'Net' is not defined",
     "output_type": "error",
     "traceback": [
      "\u001b[0;31m---------------------------------------------------------------------------\u001b[0m",
      "\u001b[0;31mNameError\u001b[0m                                 Traceback (most recent call last)",
      "Cell \u001b[0;32mIn[1], line 1\u001b[0m\n\u001b[0;32m----> 1\u001b[0m net \u001b[38;5;241m=\u001b[39m \u001b[43mNet\u001b[49m(\u001b[38;5;241m1\u001b[39m,\u001b[38;5;241m1\u001b[39m, loss2\u001b[38;5;241m=\u001b[39mphysics_loss, epochs\u001b[38;5;241m=\u001b[39m\u001b[38;5;241m30000\u001b[39m, loss2_weight\u001b[38;5;241m=\u001b[39m\u001b[38;5;241m1\u001b[39m, lr\u001b[38;5;241m=\u001b[39m\u001b[38;5;241m1e-5\u001b[39m)\u001b[38;5;241m.\u001b[39mto(DEVICE)\n\u001b[1;32m      3\u001b[0m losses \u001b[38;5;241m=\u001b[39m net\u001b[38;5;241m.\u001b[39mfit(t, T)\n\u001b[1;32m      4\u001b[0m plt\u001b[38;5;241m.\u001b[39mplot(losses)\n",
      "\u001b[0;31mNameError\u001b[0m: name 'Net' is not defined"
     ]
    }
   ],
   "source": [
    "net = Net(1,1, loss2=physics_loss, epochs=30000, loss2_weight=1, lr=1e-5).to(DEVICE)\n",
    "\n",
    "losses = net.fit(t, T)\n",
    "plt.plot(losses)\n",
    "plt.yscale('log')"
   ]
  },
  {
   "cell_type": "code",
   "execution_count": null,
   "metadata": {},
   "outputs": [],
   "source": [
    "preds = net.predict(times)\n",
    "\n",
    "plt.plot(times, temps, alpha=0.8)\n",
    "plt.plot(t, T, 'o')\n",
    "plt.plot(times, preds, alpha=0.8)\n",
    "plt.legend(labels=['Equation','Training data', 'PINN'])\n",
    "plt.ylabel('Temperature (C)')\n",
    "plt.xlabel('Time (s)')"
   ]
  },
  {
   "cell_type": "code",
   "execution_count": null,
   "metadata": {},
   "outputs": [],
   "source": []
  }
 ],
 "metadata": {
  "kernelspec": {
   "display_name": "pinns",
   "language": "python",
   "name": "python3"
  },
  "language_info": {
   "codemirror_mode": {
    "name": "ipython",
    "version": 3
   },
   "file_extension": ".py",
   "mimetype": "text/x-python",
   "name": "python",
   "nbconvert_exporter": "python",
   "pygments_lexer": "ipython3",
   "version": "3.12.8"
  }
 },
 "nbformat": 4,
 "nbformat_minor": 2
}
