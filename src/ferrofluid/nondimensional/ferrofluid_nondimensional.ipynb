{
 "cells": [
  {
   "cell_type": "markdown",
   "metadata": {},
   "source": [
    "# Setup"
   ]
  },
  {
   "cell_type": "code",
   "execution_count": 1,
   "metadata": {},
   "outputs": [],
   "source": [
    "# import matplotlib.pyplot as plt\n",
    "# import numpy as np\n",
    "# import torch\n",
    "# import seaborn as sns\n",
    "\n",
    "# from network import Net\n",
    "# from ferrofluid.dimensional.diff_equation_dimensional import *\n",
    "\n",
    "# DEVICE = torch.device('cuda' if torch.cuda.is_available() else 'cpu')\n",
    "\n",
    "# sns.set_theme()\n",
    "# torch.manual_seed(42)\n",
    "# np.random.seed(10)"
   ]
  },
  {
   "cell_type": "markdown",
   "metadata": {},
   "source": [
    "# Training Data and Nondimensionalization"
   ]
  },
  {
   "cell_type": "code",
   "execution_count": 2,
   "metadata": {},
   "outputs": [],
   "source": [
    "# # Define legends for dimensionalized and nondimensionalized data\n",
    "# dim_legend = ['Training data 1mm', 'Training data 2mm', 'Training data 3mm', 'Training data 4mm']\n",
    "# nondim_legend = ['Nondim training data 1mm', 'Nondim training data 2mm', 'Nondim training data 3mm', 'Nondim training data 4mm']\n",
    "\n",
    "# # Functions to plot dimensionalized and nondimensionalized data\n",
    "# def plot_dim_data(show=True):\n",
    "#     for i in range(0, len(dim_data)):\n",
    "#         plt.plot(dim_data[i]['TIME'], dim_data[i]['DISTANCE'], 'o')\n",
    "#     plt.legend(dim_legend)\n",
    "#     plt.ylabel('Position (m)')\n",
    "#     plt.xlabel('Time (s)')\n",
    "#     plt.title('Position vs. Time for Training Data')\n",
    "#     if show:\n",
    "#         plt.show()\n",
    "\n",
    "# def plot_nondim_data(show=True):\n",
    "#     for i in range(0, len(nondim_data)):\n",
    "#         plt.plot(nondim_data[i]['TIME'], nondim_data[i]['DISTANCE'], 'o')\n",
    "#     plt.legend(nondim_legend)\n",
    "#     plt.ylabel('Scaled Position')\n",
    "#     plt.xlabel('Log-Scaled Time')\n",
    "#     plt.title('Scaled Position vs. Time for Training Data')\n",
    "#     if show:\n",
    "#         plt.show()\n",
    "\n",
    "# # Plot dimensionalized training data\n",
    "# plot_dim_data()"
   ]
  },
  {
   "cell_type": "code",
   "execution_count": 3,
   "metadata": {},
   "outputs": [],
   "source": [
    "# # Plot nondimensionalized training data\n",
    "# plot_nondim_data()"
   ]
  },
  {
   "cell_type": "markdown",
   "metadata": {},
   "source": [
    "# Run the Model"
   ]
  },
  {
   "cell_type": "code",
   "execution_count": 4,
   "metadata": {},
   "outputs": [],
   "source": [
    "# plt.yscale('log')\n",
    "# different_droplet_networks = [None] * len(dim_data)\n",
    "\n",
    "# '''\n",
    "# Train model for each droplet size, plot losses for each one.\n",
    "# Change the bounds on this loop and subsequent ones from '0', 'len(different_droplet_networks)' to '0', '1' to do only the 1mm droplet.\n",
    "# You can change the bounds similarly to only train the network for other-sized droplets.\n",
    "# '''\n",
    "# for i in range(0, 1):\n",
    "# # for i in range(0, len(different_droplet_networks)):\n",
    "#     different_droplet_networks[i] = Net(1, 1, droplet_size_idx=i, loss2=physics_loss_dim, epochs=10000, loss1_weight=10000, loss2_weight=1, lr=1e-5).to(DEVICE)\n",
    "#     print(f'Losses for {i+1}mm droplet:')\n",
    "#     losses = different_droplet_networks[i].fit(np.array(dim_data[i]['TIME']), np.array(dim_data[i]['DISTANCE']))\n",
    "#     print()\n",
    "#     plt.plot(losses)\n",
    "# plt.legend(['1mm Droplet', '2mm Droplet', '3mm Droplet', '4mm Droplet'])\n",
    "# plt.xlabel('Epoch #')\n",
    "# plt.ylabel('Loss')\n",
    "# plt.title('Loss vs. Epoch # for Each Size of Droplet')\n",
    "# plt.show()"
   ]
  },
  {
   "cell_type": "code",
   "execution_count": 5,
   "metadata": {},
   "outputs": [],
   "source": [
    "# '''\n",
    "# Plot the dimensionalized data for each droplet as well as each respective dimensionalized model\n",
    "# '''\n",
    "\n",
    "# # Plot dimensionalized data\n",
    "# plot_dim_data(show=False)\n",
    "\n",
    "# # Use nondimensionalized model to make prediction\n",
    "# times = np.linspace(3.35, np.log(1200), 1200)\n",
    "# preds = different_droplet_networks[i].predict(times)\n",
    "\n",
    "# # Plot dimensionalized model\n",
    "# for i in range(0, 1):\n",
    "# # for i in range(0, len(different_droplet_networks)):\n",
    "#     plt.plot(np.exp(times), x_0*preds)\n",
    "#     dim_legend.append(f'Predicted data {i+1}mm')\n",
    "# plt.legend(dim_legend, fontsize=7)\n",
    "# plt.show()"
   ]
  },
  {
   "cell_type": "code",
   "execution_count": 6,
   "metadata": {},
   "outputs": [],
   "source": [
    "# '''\n",
    "# Plot the nondimensionalized data for each droplet as well as each respective nondimensionalized model\n",
    "# '''\n",
    "\n",
    "# # Plot nondimensionalized data\n",
    "# plot_nondim_data(show=False)\n",
    "\n",
    "# # Plot nondimensionalized model\n",
    "# for i in range(0, 1):\n",
    "# # for i in range(0, len(different_droplet_networks)):\n",
    "#     plt.plot(times, preds)\n",
    "#     nondim_legend.append(f'Predicted data {i+1}mm')\n",
    "# plt.legend(nondim_legend, fontsize=7)\n",
    "# plt.show()"
   ]
  }
 ],
 "metadata": {
  "kernelspec": {
   "display_name": ".venv",
   "language": "python",
   "name": "python3"
  },
  "language_info": {
   "codemirror_mode": {
    "name": "ipython",
    "version": 3
   },
   "file_extension": ".py",
   "mimetype": "text/x-python",
   "name": "python",
   "nbconvert_exporter": "python",
   "pygments_lexer": "ipython3",
   "version": "3.13.1"
  }
 },
 "nbformat": 4,
 "nbformat_minor": 2
}
