{
 "cells": [
  {
   "cell_type": "code",
   "execution_count": null,
   "id": "0958af36-6ed6-4c7b-b38b-dc2d350a6a89",
   "metadata": {},
   "outputs": [],
   "source": [
    "import functools\n",
    "import matplotlib.pyplot as plt\n",
    "import numpy as np\n",
    "import torch\n",
    "import seaborn as sns\n",
    "\n",
    "from network import Net, NetDiscovery\n",
    "from diff_equations import *\n",
    "\n",
    "DEVICE = torch.device('cuda' if torch.cuda.is_available() else 'cpu')\n",
    "\n",
    "sns.set_theme()\n",
    "torch.manual_seed(42)\n"
   ]
  },
  {
   "cell_type": "code",
   "execution_count": null,
   "id": "43e8d024-9f28-432c-99cc-3e22e3cdd193",
   "metadata": {},
   "outputs": [],
   "source": [
    "np.random.seed(10)\n",
    "\n",
    "Tenv = 25\n",
    "T0 = 100\n",
    "R = 0.005\n",
    "times = np.linspace(0, 1000, 1000)\n",
    "eq = functools.partial(cooling_law, Tenv=Tenv, T0=T0, R=R)\n",
    "temps = eq(times)\n",
    "\n",
    "# Make training data\n",
    "t = np.linspace(0, 300, 10)\n",
    "T = eq(t) +  2 * np.random.randn(10)\n",
    "\n",
    "plt.plot(times, temps)\n",
    "plt.plot(t, T, 'o')\n",
    "plt.legend(['Equation', 'Training data'])\n",
    "plt.ylabel('Temperature (C)')\n",
    "plt.xlabel('Time (s)')\n"
   ]
  },
  {
   "attachments": {},
   "cell_type": "markdown",
   "id": "ab92fc19",
   "metadata": {},
   "source": [
    "# Vanilla Networks"
   ]
  },
  {
   "cell_type": "code",
   "execution_count": null,
   "id": "040f036e-e611-40dc-a82f-e1d73bdb595b",
   "metadata": {},
   "outputs": [],
   "source": [
    "net = Net(1,1, loss2=None, epochs=20000, lr=1e-5).to(DEVICE)\n",
    "\n",
    "losses = net.fit(t, T)\n",
    "\n",
    "plt.plot(losses)\n",
    "plt.yscale('log')"
   ]
  },
  {
   "cell_type": "code",
   "execution_count": 4,
   "id": "3f5b82da",
   "metadata": {},
   "outputs": [],
   "source": [
    "def l2_reg(model: torch.nn.Module):\n",
    "    return torch.sum(sum([p.pow(2.) for p in model.parameters()]))"
   ]
  },
  {
   "cell_type": "code",
   "execution_count": null,
   "id": "0455f8e6",
   "metadata": {},
   "outputs": [],
   "source": [
    "netreg = Net(1,1, loss2=l2_reg, epochs=20000, lr=1e-4, loss2_weight=1).to(DEVICE)\n",
    "\n",
    "losses = netreg.fit(t, T)\n",
    "\n",
    "plt.plot(losses)\n",
    "plt.yscale('log')"
   ]
  },
  {
   "cell_type": "code",
   "execution_count": null,
   "id": "145f15c6",
   "metadata": {},
   "outputs": [],
   "source": [
    "predsreg = netreg.predict(times)\n",
    "\n",
    "preds = net.predict(times)\n",
    "plt.plot(times, temps, alpha=0.8)\n",
    "plt.plot(t, T, 'o')\n",
    "plt.plot(times, preds, alpha=0.8)\n",
    "plt.plot(times, predsreg, alpha=0.8)\n",
    "\n",
    "plt.legend(labels=['Equation','Training data', 'Network', 'L2 Network'])\n",
    "plt.ylabel('Temperature (C)')\n",
    "plt.xlabel('Time (s)')\n"
   ]
  },
  {
   "attachments": {},
   "cell_type": "markdown",
   "id": "0d230b3d",
   "metadata": {},
   "source": [
    "# PINN"
   ]
  },
  {
   "cell_type": "code",
   "execution_count": 7,
   "id": "6e722ad4",
   "metadata": {},
   "outputs": [],
   "source": [
    "def physics_loss(model: torch.nn.Module):\n",
    "    ts = torch.linspace(0, 1000, steps=1000,).view(-1,1).requires_grad_(True).to(DEVICE)\n",
    "    temps = model(ts)\n",
    "    dT = grad(temps, ts)[0]\n",
    "    pde = R*(Tenv - temps) - dT\n",
    "    \n",
    "    return torch.mean(pde**2)"
   ]
  },
  {
   "cell_type": "code",
   "execution_count": null,
   "id": "fa469db6",
   "metadata": {},
   "outputs": [],
   "source": [
    "net = Net(1,1, loss2=physics_loss, epochs=30000, loss2_weight=1, lr=1e-5).to(DEVICE)\n",
    "\n",
    "losses = net.fit(t, T)\n",
    "plt.plot(losses)\n",
    "plt.yscale('log')"
   ]
  },
  {
   "cell_type": "code",
   "execution_count": null,
   "id": "472c1c97",
   "metadata": {},
   "outputs": [],
   "source": [
    "preds = net.predict(times)\n",
    "\n",
    "plt.plot(times, temps, alpha=0.8)\n",
    "plt.plot(t, T, 'o')\n",
    "plt.plot(times, preds, alpha=0.8)\n",
    "plt.legend(labels=['Equation','Training data', 'PINN'])\n",
    "plt.ylabel('Temperature (C)')\n",
    "plt.xlabel('Time (s)')"
   ]
  },
  {
   "cell_type": "markdown",
   "id": "4b92af60",
   "metadata": {},
   "source": [
    "# Parameter discovery"
   ]
  },
  {
   "cell_type": "code",
   "execution_count": 10,
   "id": "bc815a11",
   "metadata": {},
   "outputs": [],
   "source": [
    "def physics_loss_discovery(model: torch.nn.Module):\n",
    "    ts = torch.linspace(0, 1000, steps=1000,).view(-1,1).requires_grad_(True).to(DEVICE)\n",
    "    temps = model(ts)\n",
    "    dT = grad(temps, ts)[0]\n",
    "    pde = model.r * (Tenv - temps) - dT\n",
    "    \n",
    "    return torch.mean(pde**2)"
   ]
  },
  {
   "cell_type": "code",
   "execution_count": null,
   "id": "5259e666",
   "metadata": {},
   "outputs": [],
   "source": [
    "netdisc = NetDiscovery(1, 1, loss2=physics_loss_discovery, loss2_weight=1, epochs=40000, lr= 5e-6).to(DEVICE)\n",
    "\n",
    "losses = netdisc.fit(t, T)\n",
    "plt.plot(losses)\n",
    "plt.yscale('log')"
   ]
  },
  {
   "cell_type": "code",
   "execution_count": null,
   "id": "2f183b3b",
   "metadata": {},
   "outputs": [],
   "source": [
    "preds = netdisc.predict(times)\n",
    "print(netdisc.r)\n",
    "\n",
    "plt.plot(times, temps, alpha=0.8)\n",
    "plt.plot(t, T, 'o')\n",
    "plt.plot(times, preds, alpha=0.8)\n",
    "plt.legend(labels=['Equation','Training data', 'discovery PINN'])\n",
    "plt.ylabel('Temperature (C)')\n",
    "plt.xlabel('Time (s)')"
   ]
  },
  {
   "cell_type": "code",
   "execution_count": null,
   "id": "19295016",
   "metadata": {},
   "outputs": [],
   "source": []
  }
 ],
 "metadata": {
  "kernelspec": {
   "display_name": ".venv",
   "language": "python",
   "name": "python3"
  },
  "language_info": {
   "codemirror_mode": {
    "name": "ipython",
    "version": 3
   },
   "file_extension": ".py",
   "mimetype": "text/x-python",
   "name": "python",
   "nbconvert_exporter": "python",
   "pygments_lexer": "ipython3",
   "version": "3.13.1"
  }
 },
 "nbformat": 4,
 "nbformat_minor": 5
}
