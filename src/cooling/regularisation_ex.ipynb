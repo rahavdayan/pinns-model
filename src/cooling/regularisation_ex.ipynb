{
 "cells": [
  {
   "cell_type": "code",
   "execution_count": 1,
   "metadata": {},
   "outputs": [],
   "source": [
    "import numpy as np\n",
    "from sklearn import linear_model, preprocessing, pipeline\n",
    "import matplotlib.pyplot as plt\n",
    "import seaborn as sns\n",
    "\n",
    "sns.set_theme()"
   ]
  },
  {
   "cell_type": "code",
   "execution_count": null,
   "metadata": {},
   "outputs": [],
   "source": [
    "def create_data(n_points):\n",
    "    x = np.linspace(-10, 10, n_points)\n",
    "    y = x**2 + 5*x + 1 + 5* np.random.randn(n_points)\n",
    "    return x, y\n",
    "x, y = create_data(100)\n",
    "plt.plot(x,y, '.')"
   ]
  },
  {
   "cell_type": "code",
   "execution_count": null,
   "metadata": {},
   "outputs": [],
   "source": [
    "np.random.seed(1)\n",
    "# Create models\n",
    "model = pipeline.Pipeline([\n",
    "    ('poly', preprocessing.PolynomialFeatures(degree=8)),\n",
    "    ('scaler', preprocessing.StandardScaler()), \n",
    "    ('model', linear_model.LinearRegression())\n",
    "    ])\n",
    "model_l2 = pipeline.Pipeline([\n",
    "    ('poly', preprocessing.PolynomialFeatures(degree=8)),\n",
    "    ('scaler', preprocessing.StandardScaler()), \n",
    "    ('model', linear_model.Ridge(alpha=1))\n",
    "    ])\n",
    "\n",
    "x, y = create_data(8)\n",
    "\n",
    "model.fit(x.reshape(-1,1), y.reshape(-1,1))\n",
    "model_l2.fit(x.reshape(-1,1), y.reshape(-1,1))\n",
    "\n",
    "# Create test data \n",
    "x_pred = np.linspace(-15, 15, 1000).reshape(-1, 1)\n",
    "\n",
    "y_pred = model.predict(x_pred)\n",
    "y_pred_l2 = model_l2.predict(x_pred)\n",
    "\n",
    "plt.plot(x,y, 'o', label='Data')\n",
    "plt.plot(x_pred, x_pred**2 + 5*x_pred + 1, label='Equation', color='b')\n",
    "plt.plot(x_pred, y_pred, label='No Regularisation')\n",
    "plt.plot(x_pred, y_pred_l2, label='With Regularisation')\n",
    "plt.ylim(-60, 200)\n",
    "plt.legend()\n"
   ]
  },
  {
   "cell_type": "code",
   "execution_count": null,
   "metadata": {},
   "outputs": [],
   "source": []
  }
 ],
 "metadata": {
  "kernelspec": {
   "display_name": ".venv",
   "language": "python",
   "name": "python3"
  },
  "language_info": {
   "codemirror_mode": {
    "name": "ipython",
    "version": 3
   },
   "file_extension": ".py",
   "mimetype": "text/x-python",
   "name": "python",
   "nbconvert_exporter": "python",
   "pygments_lexer": "ipython3",
   "version": "3.13.1"
  },
  "orig_nbformat": 4
 },
 "nbformat": 4,
 "nbformat_minor": 2
}
